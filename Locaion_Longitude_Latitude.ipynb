{
 "cells": [
  {
   "cell_type": "code",
   "execution_count": 1,
   "metadata": {},
   "outputs": [
    {
     "name": "stdout",
     "output_type": "stream",
     "text": [
      "Collecting geopy\n",
      "  Downloading geopy-2.1.0-py3-none-any.whl (112 kB)\n",
      "Collecting geographiclib<2,>=1.49\n",
      "  Downloading geographiclib-1.50-py3-none-any.whl (38 kB)\n",
      "Installing collected packages: geographiclib, geopy\n",
      "Successfully installed geographiclib-1.50 geopy-2.1.0\n"
     ]
    }
   ],
   "source": [
    "!pip install geopy"
   ]
  },
  {
   "cell_type": "code",
   "execution_count": 5,
   "metadata": {},
   "outputs": [
    {
     "data": {
      "text/html": [
       "<div>\n",
       "<style scoped>\n",
       "    .dataframe tbody tr th:only-of-type {\n",
       "        vertical-align: middle;\n",
       "    }\n",
       "\n",
       "    .dataframe tbody tr th {\n",
       "        vertical-align: top;\n",
       "    }\n",
       "\n",
       "    .dataframe thead th {\n",
       "        text-align: right;\n",
       "    }\n",
       "</style>\n",
       "<table border=\"1\" class=\"dataframe\">\n",
       "  <thead>\n",
       "    <tr style=\"text-align: right;\">\n",
       "      <th></th>\n",
       "      <th>City</th>\n",
       "    </tr>\n",
       "  </thead>\n",
       "  <tbody>\n",
       "    <tr>\n",
       "      <th>0</th>\n",
       "      <td>Bangalore</td>\n",
       "    </tr>\n",
       "    <tr>\n",
       "      <th>1</th>\n",
       "      <td>Mumbai</td>\n",
       "    </tr>\n",
       "    <tr>\n",
       "      <th>2</th>\n",
       "      <td>Chennai</td>\n",
       "    </tr>\n",
       "    <tr>\n",
       "      <th>3</th>\n",
       "      <td>Delhi</td>\n",
       "    </tr>\n",
       "    <tr>\n",
       "      <th>4</th>\n",
       "      <td>Patna</td>\n",
       "    </tr>\n",
       "  </tbody>\n",
       "</table>\n",
       "</div>"
      ],
      "text/plain": [
       "        City\n",
       "0  Bangalore\n",
       "1     Mumbai\n",
       "2    Chennai\n",
       "3      Delhi\n",
       "4      Patna"
      ]
     },
     "execution_count": 5,
     "metadata": {},
     "output_type": "execute_result"
    }
   ],
   "source": [
    "# Import pandas package\n",
    "import pandas as pd\n",
    "import numpy as np\n",
    "\t\n",
    "# Define a dictionary containing data\n",
    "data = {'City':['Bangalore', 'Mumbai', 'Chennai', 'Delhi', 'Patna']}\n",
    "\t\n",
    "# Convert the dictionary into DataFrame\n",
    "df = pd.DataFrame(data)\n",
    "\t\n",
    "# Observe the result\n",
    "df\n"
   ]
  },
  {
   "cell_type": "code",
   "execution_count": 6,
   "metadata": {},
   "outputs": [],
   "source": [
    "from geopy.exc import GeocoderTimedOut\n",
    "from geopy.geocoders import Nominatim\n",
    "\n",
    "# declare an empty list to store\n",
    "# latitude and longitude of values\n",
    "# of city column\n",
    "longitude = []\n",
    "latitude = []\n",
    "\n",
    "# function to find the coordinate\n",
    "# of a given city\n",
    "def findGeocode(city):\n",
    "\t\n",
    "\t# try and catch is used to overcome\n",
    "\t# the exception thrown by geolocator\n",
    "\t# using geocodertimedout\n",
    "\ttry:\n",
    "\t\t\n",
    "\t\t# Specify the user_agent as your\n",
    "\t\t# app name it should not be none\n",
    "\t\tgeolocator = Nominatim(user_agent=\"your_app_name\")\n",
    "\t\t\n",
    "\t\treturn geolocator.geocode(city)\n",
    "\t\n",
    "\texcept GeocoderTimedOut:\n",
    "\t\t\n",
    "\t\treturn findGeocode(city)\t\n",
    "\n",
    "# each value from city column\n",
    "# will be fetched and sent to\n",
    "# function find_geocode\n",
    "for i in (df[\"City\"]):\n",
    "\t\n",
    "\tif findGeocode(i) != None:\n",
    "\t\t\n",
    "\t\tloc = findGeocode(i)\n",
    "\t\t\n",
    "\t\t# coordinates returned from\n",
    "\t\t# function is stored into\n",
    "\t\t# two separate list\n",
    "\t\tlatitude.append(loc.latitude)\n",
    "\t\tlongitude.append(loc.longitude)\n",
    "\t\n",
    "\t# if coordinate for a city not\n",
    "\t# found, insert \"NaN\" indicating\n",
    "\t# missing value\n",
    "\telse:\n",
    "\t\tlatitude.append(np.nan)\n",
    "\t\tlongitude.append(np.nan)\n"
   ]
  },
  {
   "cell_type": "code",
   "execution_count": 7,
   "metadata": {},
   "outputs": [
    {
     "data": {
      "text/html": [
       "<div>\n",
       "<style scoped>\n",
       "    .dataframe tbody tr th:only-of-type {\n",
       "        vertical-align: middle;\n",
       "    }\n",
       "\n",
       "    .dataframe tbody tr th {\n",
       "        vertical-align: top;\n",
       "    }\n",
       "\n",
       "    .dataframe thead th {\n",
       "        text-align: right;\n",
       "    }\n",
       "</style>\n",
       "<table border=\"1\" class=\"dataframe\">\n",
       "  <thead>\n",
       "    <tr style=\"text-align: right;\">\n",
       "      <th></th>\n",
       "      <th>City</th>\n",
       "      <th>Longitude</th>\n",
       "      <th>Latitude</th>\n",
       "    </tr>\n",
       "  </thead>\n",
       "  <tbody>\n",
       "    <tr>\n",
       "      <th>0</th>\n",
       "      <td>Bangalore</td>\n",
       "      <td>77.591300</td>\n",
       "      <td>12.979120</td>\n",
       "    </tr>\n",
       "    <tr>\n",
       "      <th>1</th>\n",
       "      <td>Mumbai</td>\n",
       "      <td>72.877393</td>\n",
       "      <td>19.075990</td>\n",
       "    </tr>\n",
       "    <tr>\n",
       "      <th>2</th>\n",
       "      <td>Chennai</td>\n",
       "      <td>80.270186</td>\n",
       "      <td>13.083694</td>\n",
       "    </tr>\n",
       "    <tr>\n",
       "      <th>3</th>\n",
       "      <td>Delhi</td>\n",
       "      <td>77.221939</td>\n",
       "      <td>28.651718</td>\n",
       "    </tr>\n",
       "    <tr>\n",
       "      <th>4</th>\n",
       "      <td>Patna</td>\n",
       "      <td>85.123525</td>\n",
       "      <td>25.609324</td>\n",
       "    </tr>\n",
       "  </tbody>\n",
       "</table>\n",
       "</div>"
      ],
      "text/plain": [
       "        City  Longitude   Latitude\n",
       "0  Bangalore  77.591300  12.979120\n",
       "1     Mumbai  72.877393  19.075990\n",
       "2    Chennai  80.270186  13.083694\n",
       "3      Delhi  77.221939  28.651718\n",
       "4      Patna  85.123525  25.609324"
      ]
     },
     "execution_count": 7,
     "metadata": {},
     "output_type": "execute_result"
    }
   ],
   "source": [
    "# now add this column to dataframe\n",
    "df[\"Longitude\"] = longitude\n",
    "df[\"Latitude\"] = latitude\n",
    "\n",
    "df\n"
   ]
  },
  {
   "cell_type": "code",
   "execution_count": 8,
   "metadata": {},
   "outputs": [
    {
     "name": "stdout",
     "output_type": "stream",
     "text": [
      "Latitude:  25.594095\n",
      "Longitude:  85.137566\n",
      "\n",
      "Location of the given Latitude and Longitude:\n",
      "Patna, Patna Rural, Patna, Bihar, 800001, India\n"
     ]
    }
   ],
   "source": [
    "# Import module\n",
    "from geopy.geocoders import Nominatim\n",
    "\n",
    "# Initialize Nominatim API\n",
    "geolocator = Nominatim(user_agent=\"geoapiExercises\")\n",
    "\n",
    "# Assign Latitude & Longitude\n",
    "Latitude = \"25.594095\"\n",
    "Longitude = \"85.137566\"\n",
    "\n",
    "# Dsiaplying Latitude and Longitude\n",
    "print(\"Latitude: \", Latitude)\n",
    "print(\"Longitude: \", Longitude)\n",
    "\n",
    "# Get location with geocode\n",
    "location = geolocator.geocode(Latitude+\",\"+Longitude)\n",
    "\n",
    "# Dsiplay location\n",
    "print(\"\\nLocation of the given Latitude and Longitude:\")\n",
    "print(location)"
   ]
  },
  {
   "cell_type": "code",
   "execution_count": null,
   "metadata": {},
   "outputs": [],
   "source": []
  }
 ],
 "metadata": {
  "kernelspec": {
   "display_name": "Python 3",
   "language": "python",
   "name": "python3"
  },
  "language_info": {
   "codemirror_mode": {
    "name": "ipython",
    "version": 3
   },
   "file_extension": ".py",
   "mimetype": "text/x-python",
   "name": "python",
   "nbconvert_exporter": "python",
   "pygments_lexer": "ipython3",
   "version": "3.7.7"
  }
 },
 "nbformat": 4,
 "nbformat_minor": 4
}
